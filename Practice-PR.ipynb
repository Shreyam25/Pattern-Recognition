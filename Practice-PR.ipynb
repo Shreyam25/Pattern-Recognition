{
 "cells": [
  {
   "cell_type": "markdown",
   "id": "657783f0",
   "metadata": {},
   "source": [
    "### Iris Dataset \n",
    "The dataset contains a set of 20 records under 5 attributes :-\n",
    "- Petal Length\n",
    "- Petal Width\n",
    "- Sepal Length\n",
    "- Sepal width \n",
    "- Class(Species)"
   ]
  },
  {
   "cell_type": "markdown",
   "id": "9c5c735e",
   "metadata": {},
   "source": [
    "#### Importing libraries"
   ]
  },
  {
   "cell_type": "code",
   "execution_count": 1,
   "id": "3cabee7c",
   "metadata": {},
   "outputs": [],
   "source": [
    "import sklearn as skl\n",
    "import pandas as pd\n",
    "from sklearn.preprocessing import LabelEncoder\n",
    "from sklearn.model_selection import train_test_split\n",
    "from sklearn.neighbors import KNeighborsClassifier\n",
    "from sklearn.svm import SVC\n",
    "from sklearn.cluster import KMeans\n",
    "from sklearn import tree"
   ]
  },
  {
   "cell_type": "markdown",
   "id": "af5db246",
   "metadata": {},
   "source": [
    "#### **Classifier** class with  different classifiers' as methods\n",
    "Classfiers -\n",
    "- SVM \n",
    "- KNN\n",
    "- Decision Tree"
   ]
  },
  {
   "cell_type": "code",
   "execution_count": 9,
   "id": "d7755ec5",
   "metadata": {},
   "outputs": [
    {
     "name": "stderr",
     "output_type": "stream",
     "text": [
      "C:\\Users\\91906\\AppData\\Local\\Temp/ipykernel_29052/156414437.py:3: DeprecationWarning: The default dtype for empty Series will be 'object' instead of 'float64' in a future version. Specify a dtype explicitly to silence this warning.\n",
      "  x_train,x_test,y_train,y_test=pd.DataFrame(),pd.Series(),pd.DataFrame(),pd.Series()\n"
     ]
    }
   ],
   "source": [
    "class Classifier:\n",
    "    model=0\n",
    "    x_train,x_test,y_train,y_test=pd.DataFrame(),pd.Series(),pd.DataFrame(),pd.Series()\n",
    "    \n",
    "    #Constrcutor\n",
    "    def __init__(self,train, test):\n",
    "        self.train=train\n",
    "        self.test=test\n",
    "        self.x_train,self.x_test,self.y_train,self.y_test= train_test_split(self.train, self.test, test_size = 0.20)\n",
    "        \n",
    "    #SVM Classifier\n",
    "    def svm(self):\n",
    "        model=SVC()\n",
    "        return model.fit(self.x_train, self.y_train)\n",
    "    def naive():\n",
    "        pass \n",
    "    \n",
    "    def kmeans(self):\n",
    "        pass\n",
    "       \n",
    "    #Decision Tree \n",
    "    def DecisionT(self):\n",
    "        model = tree.DecisionTreeClassifier()\n",
    "        return model.fit(self.x_train, self.y_train)     \n",
    "    \n",
    "    #K Nearast Neighbour\n",
    "    def knn(self):\n",
    "        print(\"knn\")\n",
    "        model = KNeighborsClassifier(n_neighbors = 3)\n",
    "        return model.fit(self.x_train, self.y_train)     \n",
    "    \n",
    "    #Prediction accuracy\n",
    "    def results(self,model):\n",
    "        \n",
    "        species=['Iris-setosa', 'Iris-versicolor', 'Iris-virginica']\n",
    "        self.model=model\n",
    "        preds=model.predict(self.x_test)\n",
    "        pred_species = [species[p] for p in preds] \n",
    "        print(\"Predictions:\", pred_species)\n",
    "        print(\"Accuracy: \",model.score(self.x_test,self.y_test)*100)\n",
    "        \n"
   ]
  },
  {
   "cell_type": "markdown",
   "id": "aa005662",
   "metadata": {},
   "source": [
    "#### Main function"
   ]
  },
  {
   "cell_type": "code",
   "execution_count": 3,
   "id": "cc9371f6",
   "metadata": {},
   "outputs": [
    {
     "name": "stdout",
     "output_type": "stream",
     "text": [
      "\n",
      "Classification Models :\n",
      "1.K Nearest Neighbour\n",
      "2.Support Vector Machine\n",
      "3.Decision Tree\n",
      "4.Exit\n",
      "\n",
      "\n",
      "Choose : 2\n",
      "Algorithm : Support Vector Machine\n",
      "Predictions: ['Iris-versicolor', 'Iris-virginica', 'Iris-setosa', 'Iris-setosa']\n",
      "Accuracy:  100.0\n",
      "\n",
      "Classification Models :\n",
      "1.K Nearest Neighbour\n",
      "2.Support Vector Machine\n",
      "3.Decision Tree\n",
      "4.Exit\n",
      "\n",
      "\n",
      "Choose : 1\n",
      "knn\n",
      "Algorithm : K Nearest Neighbour\n",
      "Predictions: ['Iris-versicolor', 'Iris-virginica', 'Iris-setosa', 'Iris-setosa']\n",
      "Accuracy:  100.0\n",
      "\n",
      "Classification Models :\n",
      "1.K Nearest Neighbour\n",
      "2.Support Vector Machine\n",
      "3.Decision Tree\n",
      "4.Exit\n",
      "\n",
      "\n",
      "Choose : 3\n",
      "Algorithm : Decision Tree\n",
      "Predictions: ['Iris-versicolor', 'Iris-virginica', 'Iris-setosa', 'Iris-setosa']\n",
      "Accuracy:  100.0\n",
      "\n",
      "Classification Models :\n",
      "1.K Nearest Neighbour\n",
      "2.Support Vector Machine\n",
      "3.Decision Tree\n",
      "4.Exit\n",
      "\n",
      "\n",
      "Choose : 4\n"
     ]
    }
   ],
   "source": [
    "if __name__== \"__main__\" :\n",
    "    data = {\n",
    "            'Sepal_length': [5.1,4.9,4.7,4.6,5,\n",
    "                            7,6.4,6.9,5.5,6.5,\n",
    "                            6.3,5.8,7.1,6.3,6.5,\n",
    "                            7.6,5.4,5.7,4.9,4.6],\n",
    "            'Sepal_width':[3.5,3,3.2,3.1,3.6,\n",
    "                          3.2,3.2,3.1,2.3,2.8,\n",
    "                          3.3,2.7,3,2.9,3,\n",
    "                           3,3.9,2.8,2.5,3.4],\n",
    "            'Petal_length':[1.4,1.4,1.3,1.5,1.4,\n",
    "                4.7,4.5,4.9,4,4.6,\n",
    "                6,5.1,5.9,5.6,5.8,\n",
    "                6.6,1.7,4.6,4.5,1.4],\n",
    "           'Petal_width':[0.2,0.2,0.2,0.2,0.4,\n",
    "                         1.4,1.5,1.5,1.3,1.5,\n",
    "                         2.5,1.9,2.1,1.8,2.2,\n",
    "                          2.1,0.4,1.5,1.7,0.3],\n",
    "           'Species':['Iris-setosa', 'Iris-setosa', 'Iris-setosa', 'Iris-setosa', 'Iris-setosa',#0\n",
    "                     'Iris-versicolor','Iris-versicolor','Iris-versicolor','Iris-versicolor','Iris-versicolor',#1\n",
    "                     'Iris-virginica','Iris-virginica','Iris-virginica','Iris-virginica','Iris-virginica',#2\n",
    "                     'Iris-virginica','Iris-setosa','Iris-versicolor','Iris-virginica','Iris-setosa']}\n",
    "    df=pd.DataFrame(data)\n",
    "    df.index=df.index+1\n",
    "    le = LabelEncoder()\n",
    "    df['Species']= le.fit_transform(df['Species'])\n",
    "    train= df.drop(columns=['Species'])\n",
    "    test= df['Species']\n",
    "   \n",
    "\n",
    "    obj=Classifier(train,test)\n",
    "    run=1\n",
    "    \n",
    "    while(run):\n",
    "        print(\"\\nClassification Models :\\n1.K Nearest Neighbour\\n2.Support Vector Machine\\n3.Decision Tree\\n4.Exit\\n\\n\")\n",
    "        m=int(input(\"Choose : \"))\n",
    "        if(m==1):\n",
    "                model=obj.knn()\n",
    "                print(\"Algorithm : K Nearest Neighbour\")\n",
    "                obj.results(model)\n",
    "                #break\n",
    "        elif(m==2):\n",
    "                svm=obj.svm()\n",
    "                print(\"Algorithm : Support Vector Machine\")\n",
    "                obj.results(svm)\n",
    "        elif(m==3):\n",
    "                dt=obj.DecisionT()\n",
    "                print(\"Algorithm : Decision Tree\")\n",
    "                obj.results(dt)\n",
    "        else:\n",
    "                run=0          "
   ]
  },
  {
   "cell_type": "code",
   "execution_count": 7,
   "id": "eb07de71",
   "metadata": {},
   "outputs": [
    {
     "name": "stdout",
     "output_type": "stream",
     "text": [
      "10    1\n",
      "13    2\n",
      "5     0\n",
      "3     0\n",
      "Name: Species, dtype: int32\n"
     ]
    }
   ],
   "source": [
    "print(obj.y_test) \n",
    "# 0= setosa 1= versicolor 2=virginica--!>"
   ]
  },
  {
   "cell_type": "markdown",
   "id": "4c60c73a",
   "metadata": {},
   "source": [
    "###### Iris data \n",
    "<!-- data = {\n",
    "        'Sepal_length': [5.1,4.9,4.7,4.6,5,\n",
    "                        7,6.4,6.9,5.5,6.5,\n",
    "                        6.3,5.8,7.1,6.3,6.5,\n",
    "                        7.6,5.4,5.7,4.9,4.6],\n",
    "        'Sepal_width':[3.5,3,3.2,3.1,3.6,\n",
    "                      3.2,3.2,3.1,2.3,2.8,\n",
    "                      3.3,2.7,3,2.9,3,\n",
    "                       3,3.9,2.8,2.5,3.4],\n",
    "        'Petal_length':[1.4,1.4,1.3,1.5,1.4,\n",
    "            4.7,4.5,4.9,4,4.6,\n",
    "            6,5.1,5.9,5.6,5.8,\n",
    "            6.6,1.7,4.6,4.5,1.4],\n",
    "       'Petal_width':[0.2,0.2,0.2,0.2,0.4,\n",
    "                     1.4,1.5,1.5,1.3,1.5,\n",
    "                     2.5,1.9,2.1,1.8,2.2,\n",
    "                      2.1,0.4,1.5,1.7,0.3],\n",
    "       'Species':['Iris-setosa', 'Iris-setosa', 'Iris-setosa', 'Iris-setosa', 'Iris-setosa',\n",
    "                 'Iris-versicolor','Iris-versicolor','Iris-versicolor','Iris-versicolor','Iris-versicolor',\n",
    "                 'Iris-virginica','Iris-virginica','Iris-virginica','Iris-virginica','Iris-virginica',\n",
    "                 'Iris-virginica','Iris-setosa','Iris-versicolor','Iris-virginica','Iris-setosa']} -->\n",
    " \n",
    "\n",
    "<!-- ###### x_train, x_test, y_train,y_test = train.iloc[:15,:],test.iloc[:15],test.iloc[:15],test.iloc[15:20] -->\n",
    "\n",
    "<!-- \n",
    " unsuper=train.to_csv(header=None,index=False)\n",
    "#         unsuper=unsuper.to_numpy()\n",
    "#         model=KMeans(n_clusters=3, random_state=5)\n",
    "#         print(unsuper)\n",
    "#         return model.fit(unsuper) -->"
   ]
  },
  {
   "cell_type": "code",
   "execution_count": null,
   "id": "12b6b92b",
   "metadata": {},
   "outputs": [],
   "source": []
  },
  {
   "cell_type": "code",
   "execution_count": null,
   "id": "ec43827e",
   "metadata": {},
   "outputs": [],
   "source": []
  }
 ],
 "metadata": {
  "kernelspec": {
   "display_name": "Python 3 (ipykernel)",
   "language": "python",
   "name": "python3"
  },
  "language_info": {
   "codemirror_mode": {
    "name": "ipython",
    "version": 3
   },
   "file_extension": ".py",
   "mimetype": "text/x-python",
   "name": "python",
   "nbconvert_exporter": "python",
   "pygments_lexer": "ipython3",
   "version": "3.9.7"
  }
 },
 "nbformat": 4,
 "nbformat_minor": 5
}
